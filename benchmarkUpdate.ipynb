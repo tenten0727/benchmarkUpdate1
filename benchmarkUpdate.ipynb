{
  "nbformat": 4,
  "nbformat_minor": 0,
  "metadata": {
    "colab": {
      "name": "benchmarkUpdate.ipynb",
      "provenance": [],
      "collapsed_sections": [],
      "authorship_tag": "ABX9TyPf71+50SVajX3xJb1XQGWa",
      "include_colab_link": true
    },
    "kernelspec": {
      "name": "python3",
      "display_name": "Python 3"
    }
  },
  "cells": [
    {
      "cell_type": "markdown",
      "metadata": {
        "id": "view-in-github",
        "colab_type": "text"
      },
      "source": [
        "<a href=\"https://colab.research.google.com/github/tenten0727/benchmarkUpdate1/blob/master/benchmarkUpdate.ipynb\" target=\"_parent\"><img src=\"https://colab.research.google.com/assets/colab-badge.svg\" alt=\"Open In Colab\"/></a>"
      ]
    },
    {
      "cell_type": "markdown",
      "metadata": {
        "id": "0Vjn_nwu4i_k",
        "colab_type": "text"
      },
      "source": [
        "# googleマウント"
      ]
    },
    {
      "cell_type": "code",
      "metadata": {
        "id": "LJF2JyE94iD7",
        "colab_type": "code",
        "colab": {
          "base_uri": "https://localhost:8080/",
          "height": 34
        },
        "outputId": "b75e5cd2-51b1-4f7c-e3aa-b4d40fb7aa40"
      },
      "source": [
        "from google.colab import drive\n",
        "drive.mount('/content/gdrive')"
      ],
      "execution_count": 165,
      "outputs": [
        {
          "output_type": "stream",
          "text": [
            "Drive already mounted at /content/gdrive; to attempt to forcibly remount, call drive.mount(\"/content/gdrive\", force_remount=True).\n"
          ],
          "name": "stdout"
        }
      ]
    },
    {
      "cell_type": "markdown",
      "metadata": {
        "id": "xRRB4JeS33TO",
        "colab_type": "text"
      },
      "source": [
        "# ライブラリのインポート"
      ]
    },
    {
      "cell_type": "code",
      "metadata": {
        "id": "lEmOCznC4Ao8",
        "colab_type": "code",
        "colab": {}
      },
      "source": [
        "import pandas as pd\n",
        "import lightgbm as lgb\n",
        "import numpy as np\n",
        "import warnings\n",
        "import gc\n",
        "from sklearn.model_selection import train_test_split\n",
        "from sklearn import preprocessing\n",
        "from sklearn import metrics\n",
        "from google.colab import files\n",
        "from sklearn.metrics import accuracy_score\n",
        "import matplotlib.pyplot as plt \n",
        "import datetime\n",
        "import collections\n",
        "\n",
        "warnings.simplefilter('ignore')\n"
      ],
      "execution_count": 166,
      "outputs": []
    },
    {
      "cell_type": "markdown",
      "metadata": {
        "id": "oUK-E88F4aKr",
        "colab_type": "text"
      },
      "source": [
        "# data読み込み"
      ]
    },
    {
      "cell_type": "code",
      "metadata": {
        "id": "aEsaV8uq4dtg",
        "colab_type": "code",
        "colab": {}
      },
      "source": [
        "train_df = pd.read_csv('/content/gdrive/My Drive/SIGNATE/Beginner1/train.csv')\n",
        "test_df = pd.read_csv('/content/gdrive/My Drive/SIGNATE/Beginner1/test.csv')\n",
        "submit_df = pd.read_csv('/content/gdrive/My Drive/SIGNATE/Beginner1/submit_sample.csv',header=None)"
      ],
      "execution_count": 167,
      "outputs": []
    },
    {
      "cell_type": "markdown",
      "metadata": {
        "id": "Qj5fxOlD5H_T",
        "colab_type": "text"
      },
      "source": [
        "# data量確認"
      ]
    },
    {
      "cell_type": "code",
      "metadata": {
        "id": "SOiYLg2x5KDW",
        "colab_type": "code",
        "colab": {
          "base_uri": "https://localhost:8080/",
          "height": 34
        },
        "outputId": "3b0a780f-d5e0-4441-8f89-4c5f237035eb"
      },
      "source": [
        "train_df.shape, test_df.shape, submit_df.shape"
      ],
      "execution_count": 168,
      "outputs": [
        {
          "output_type": "execute_result",
          "data": {
            "text/plain": [
              "((27100, 18), (18050, 17), (18050, 2))"
            ]
          },
          "metadata": {
            "tags": []
          },
          "execution_count": 168
        }
      ]
    },
    {
      "cell_type": "markdown",
      "metadata": {
        "id": "8v1PoI075o9Z",
        "colab_type": "text"
      },
      "source": [
        "# testデータがわかるようにダミーの目的変数を代入"
      ]
    },
    {
      "cell_type": "code",
      "metadata": {
        "id": "AdTYJPtw5-0W",
        "colab_type": "code",
        "colab": {}
      },
      "source": [
        "test_df['y']=-999"
      ],
      "execution_count": 169,
      "outputs": []
    },
    {
      "cell_type": "markdown",
      "metadata": {
        "id": "u61s0wdA6MT3",
        "colab_type": "text"
      },
      "source": [
        "# trainデータ、testデータを結合"
      ]
    },
    {
      "cell_type": "code",
      "metadata": {
        "id": "nRs1caBG6TH9",
        "colab_type": "code",
        "colab": {
          "base_uri": "https://localhost:8080/",
          "height": 204
        },
        "outputId": "918fa83e-3ea7-40d7-ffc7-b2cdbfac06a9"
      },
      "source": [
        "all_df = pd.concat([train_df, test_df])\n",
        "del train_df, test_df\n",
        "gc.collect()\n",
        "all_df.head()"
      ],
      "execution_count": 170,
      "outputs": [
        {
          "output_type": "execute_result",
          "data": {
            "text/html": [
              "<div>\n",
              "<style scoped>\n",
              "    .dataframe tbody tr th:only-of-type {\n",
              "        vertical-align: middle;\n",
              "    }\n",
              "\n",
              "    .dataframe tbody tr th {\n",
              "        vertical-align: top;\n",
              "    }\n",
              "\n",
              "    .dataframe thead th {\n",
              "        text-align: right;\n",
              "    }\n",
              "</style>\n",
              "<table border=\"1\" class=\"dataframe\">\n",
              "  <thead>\n",
              "    <tr style=\"text-align: right;\">\n",
              "      <th></th>\n",
              "      <th>id</th>\n",
              "      <th>age</th>\n",
              "      <th>job</th>\n",
              "      <th>marital</th>\n",
              "      <th>education</th>\n",
              "      <th>default</th>\n",
              "      <th>balance</th>\n",
              "      <th>housing</th>\n",
              "      <th>loan</th>\n",
              "      <th>contact</th>\n",
              "      <th>day</th>\n",
              "      <th>month</th>\n",
              "      <th>duration</th>\n",
              "      <th>campaign</th>\n",
              "      <th>pdays</th>\n",
              "      <th>previous</th>\n",
              "      <th>poutcome</th>\n",
              "      <th>y</th>\n",
              "    </tr>\n",
              "  </thead>\n",
              "  <tbody>\n",
              "    <tr>\n",
              "      <th>0</th>\n",
              "      <td>0</td>\n",
              "      <td>31</td>\n",
              "      <td>services</td>\n",
              "      <td>married</td>\n",
              "      <td>secondary</td>\n",
              "      <td>no</td>\n",
              "      <td>12294</td>\n",
              "      <td>yes</td>\n",
              "      <td>no</td>\n",
              "      <td>cellular</td>\n",
              "      <td>21</td>\n",
              "      <td>nov</td>\n",
              "      <td>101</td>\n",
              "      <td>3</td>\n",
              "      <td>498</td>\n",
              "      <td>0</td>\n",
              "      <td>other</td>\n",
              "      <td>0</td>\n",
              "    </tr>\n",
              "    <tr>\n",
              "      <th>1</th>\n",
              "      <td>1</td>\n",
              "      <td>29</td>\n",
              "      <td>entrepreneur</td>\n",
              "      <td>single</td>\n",
              "      <td>tertiary</td>\n",
              "      <td>no</td>\n",
              "      <td>43027</td>\n",
              "      <td>no</td>\n",
              "      <td>no</td>\n",
              "      <td>cellular</td>\n",
              "      <td>22</td>\n",
              "      <td>aug</td>\n",
              "      <td>158</td>\n",
              "      <td>2</td>\n",
              "      <td>702</td>\n",
              "      <td>0</td>\n",
              "      <td>unknown</td>\n",
              "      <td>1</td>\n",
              "    </tr>\n",
              "    <tr>\n",
              "      <th>2</th>\n",
              "      <td>2</td>\n",
              "      <td>35</td>\n",
              "      <td>management</td>\n",
              "      <td>married</td>\n",
              "      <td>tertiary</td>\n",
              "      <td>no</td>\n",
              "      <td>12252</td>\n",
              "      <td>yes</td>\n",
              "      <td>no</td>\n",
              "      <td>cellular</td>\n",
              "      <td>11</td>\n",
              "      <td>nov</td>\n",
              "      <td>351</td>\n",
              "      <td>1</td>\n",
              "      <td>826</td>\n",
              "      <td>0</td>\n",
              "      <td>failure</td>\n",
              "      <td>0</td>\n",
              "    </tr>\n",
              "    <tr>\n",
              "      <th>3</th>\n",
              "      <td>3</td>\n",
              "      <td>31</td>\n",
              "      <td>technician</td>\n",
              "      <td>married</td>\n",
              "      <td>secondary</td>\n",
              "      <td>no</td>\n",
              "      <td>99121</td>\n",
              "      <td>yes</td>\n",
              "      <td>yes</td>\n",
              "      <td>unknown</td>\n",
              "      <td>16</td>\n",
              "      <td>may</td>\n",
              "      <td>658</td>\n",
              "      <td>2</td>\n",
              "      <td>120</td>\n",
              "      <td>0</td>\n",
              "      <td>failure</td>\n",
              "      <td>0</td>\n",
              "    </tr>\n",
              "    <tr>\n",
              "      <th>4</th>\n",
              "      <td>4</td>\n",
              "      <td>48</td>\n",
              "      <td>unemployed</td>\n",
              "      <td>married</td>\n",
              "      <td>primary</td>\n",
              "      <td>no</td>\n",
              "      <td>42005</td>\n",
              "      <td>yes</td>\n",
              "      <td>no</td>\n",
              "      <td>telephone</td>\n",
              "      <td>3</td>\n",
              "      <td>apr</td>\n",
              "      <td>177</td>\n",
              "      <td>1</td>\n",
              "      <td>273</td>\n",
              "      <td>0</td>\n",
              "      <td>unknown</td>\n",
              "      <td>0</td>\n",
              "    </tr>\n",
              "  </tbody>\n",
              "</table>\n",
              "</div>"
            ],
            "text/plain": [
              "   id  age           job  marital  ... pdays previous  poutcome  y\n",
              "0   0   31      services  married  ...   498        0     other  0\n",
              "1   1   29  entrepreneur   single  ...   702        0   unknown  1\n",
              "2   2   35    management  married  ...   826        0   failure  0\n",
              "3   3   31    technician  married  ...   120        0   failure  0\n",
              "4   4   48    unemployed  married  ...   273        0   unknown  0\n",
              "\n",
              "[5 rows x 18 columns]"
            ]
          },
          "metadata": {
            "tags": []
          },
          "execution_count": 170
        }
      ]
    },
    {
      "cell_type": "markdown",
      "metadata": {
        "id": "8d4ZY0ca7bzU",
        "colab_type": "text"
      },
      "source": [
        "# カテゴリカラムの前処理"
      ]
    },
    {
      "cell_type": "code",
      "metadata": {
        "id": "xFTsxhO_7ewU",
        "colab_type": "code",
        "colab": {
          "base_uri": "https://localhost:8080/",
          "height": 419
        },
        "outputId": "0e98443c-f18e-4efc-98f2-bbedaadf02a5"
      },
      "source": [
        "categorical_features = ['job', 'marital', 'education','default','housing','loan','contact','month','poutcome']\n",
        "for col in categorical_features:\n",
        "    lbl = preprocessing.LabelEncoder()\n",
        "    lbl.fit(all_df[col])\n",
        "    lbl.transform(all_df[col])\n",
        "    all_df[col]=lbl.transform(all_df[col])\n",
        "# all_df = pd.get_dummies(all_df, drop_first=True)\n",
        "\n",
        "all_df"
      ],
      "execution_count": 171,
      "outputs": [
        {
          "output_type": "execute_result",
          "data": {
            "text/html": [
              "<div>\n",
              "<style scoped>\n",
              "    .dataframe tbody tr th:only-of-type {\n",
              "        vertical-align: middle;\n",
              "    }\n",
              "\n",
              "    .dataframe tbody tr th {\n",
              "        vertical-align: top;\n",
              "    }\n",
              "\n",
              "    .dataframe thead th {\n",
              "        text-align: right;\n",
              "    }\n",
              "</style>\n",
              "<table border=\"1\" class=\"dataframe\">\n",
              "  <thead>\n",
              "    <tr style=\"text-align: right;\">\n",
              "      <th></th>\n",
              "      <th>id</th>\n",
              "      <th>age</th>\n",
              "      <th>job</th>\n",
              "      <th>marital</th>\n",
              "      <th>education</th>\n",
              "      <th>default</th>\n",
              "      <th>balance</th>\n",
              "      <th>housing</th>\n",
              "      <th>loan</th>\n",
              "      <th>contact</th>\n",
              "      <th>day</th>\n",
              "      <th>month</th>\n",
              "      <th>duration</th>\n",
              "      <th>campaign</th>\n",
              "      <th>pdays</th>\n",
              "      <th>previous</th>\n",
              "      <th>poutcome</th>\n",
              "      <th>y</th>\n",
              "    </tr>\n",
              "  </thead>\n",
              "  <tbody>\n",
              "    <tr>\n",
              "      <th>0</th>\n",
              "      <td>0</td>\n",
              "      <td>31</td>\n",
              "      <td>7</td>\n",
              "      <td>1</td>\n",
              "      <td>1</td>\n",
              "      <td>0</td>\n",
              "      <td>12294</td>\n",
              "      <td>1</td>\n",
              "      <td>0</td>\n",
              "      <td>0</td>\n",
              "      <td>21</td>\n",
              "      <td>8</td>\n",
              "      <td>101</td>\n",
              "      <td>3</td>\n",
              "      <td>498</td>\n",
              "      <td>0</td>\n",
              "      <td>1</td>\n",
              "      <td>0</td>\n",
              "    </tr>\n",
              "    <tr>\n",
              "      <th>1</th>\n",
              "      <td>1</td>\n",
              "      <td>29</td>\n",
              "      <td>2</td>\n",
              "      <td>2</td>\n",
              "      <td>2</td>\n",
              "      <td>0</td>\n",
              "      <td>43027</td>\n",
              "      <td>0</td>\n",
              "      <td>0</td>\n",
              "      <td>0</td>\n",
              "      <td>22</td>\n",
              "      <td>1</td>\n",
              "      <td>158</td>\n",
              "      <td>2</td>\n",
              "      <td>702</td>\n",
              "      <td>0</td>\n",
              "      <td>3</td>\n",
              "      <td>1</td>\n",
              "    </tr>\n",
              "    <tr>\n",
              "      <th>2</th>\n",
              "      <td>2</td>\n",
              "      <td>35</td>\n",
              "      <td>4</td>\n",
              "      <td>1</td>\n",
              "      <td>2</td>\n",
              "      <td>0</td>\n",
              "      <td>12252</td>\n",
              "      <td>1</td>\n",
              "      <td>0</td>\n",
              "      <td>0</td>\n",
              "      <td>11</td>\n",
              "      <td>8</td>\n",
              "      <td>351</td>\n",
              "      <td>1</td>\n",
              "      <td>826</td>\n",
              "      <td>0</td>\n",
              "      <td>0</td>\n",
              "      <td>0</td>\n",
              "    </tr>\n",
              "    <tr>\n",
              "      <th>3</th>\n",
              "      <td>3</td>\n",
              "      <td>31</td>\n",
              "      <td>9</td>\n",
              "      <td>1</td>\n",
              "      <td>1</td>\n",
              "      <td>0</td>\n",
              "      <td>99121</td>\n",
              "      <td>1</td>\n",
              "      <td>1</td>\n",
              "      <td>2</td>\n",
              "      <td>16</td>\n",
              "      <td>7</td>\n",
              "      <td>658</td>\n",
              "      <td>2</td>\n",
              "      <td>120</td>\n",
              "      <td>0</td>\n",
              "      <td>0</td>\n",
              "      <td>0</td>\n",
              "    </tr>\n",
              "    <tr>\n",
              "      <th>4</th>\n",
              "      <td>4</td>\n",
              "      <td>48</td>\n",
              "      <td>10</td>\n",
              "      <td>1</td>\n",
              "      <td>0</td>\n",
              "      <td>0</td>\n",
              "      <td>42005</td>\n",
              "      <td>1</td>\n",
              "      <td>0</td>\n",
              "      <td>1</td>\n",
              "      <td>3</td>\n",
              "      <td>0</td>\n",
              "      <td>177</td>\n",
              "      <td>1</td>\n",
              "      <td>273</td>\n",
              "      <td>0</td>\n",
              "      <td>3</td>\n",
              "      <td>0</td>\n",
              "    </tr>\n",
              "    <tr>\n",
              "      <th>...</th>\n",
              "      <td>...</td>\n",
              "      <td>...</td>\n",
              "      <td>...</td>\n",
              "      <td>...</td>\n",
              "      <td>...</td>\n",
              "      <td>...</td>\n",
              "      <td>...</td>\n",
              "      <td>...</td>\n",
              "      <td>...</td>\n",
              "      <td>...</td>\n",
              "      <td>...</td>\n",
              "      <td>...</td>\n",
              "      <td>...</td>\n",
              "      <td>...</td>\n",
              "      <td>...</td>\n",
              "      <td>...</td>\n",
              "      <td>...</td>\n",
              "      <td>...</td>\n",
              "    </tr>\n",
              "    <tr>\n",
              "      <th>18045</th>\n",
              "      <td>18045</td>\n",
              "      <td>49</td>\n",
              "      <td>6</td>\n",
              "      <td>1</td>\n",
              "      <td>2</td>\n",
              "      <td>0</td>\n",
              "      <td>98357</td>\n",
              "      <td>1</td>\n",
              "      <td>0</td>\n",
              "      <td>0</td>\n",
              "      <td>6</td>\n",
              "      <td>4</td>\n",
              "      <td>101</td>\n",
              "      <td>2</td>\n",
              "      <td>417</td>\n",
              "      <td>0</td>\n",
              "      <td>0</td>\n",
              "      <td>-999</td>\n",
              "    </tr>\n",
              "    <tr>\n",
              "      <th>18046</th>\n",
              "      <td>18046</td>\n",
              "      <td>34</td>\n",
              "      <td>1</td>\n",
              "      <td>1</td>\n",
              "      <td>1</td>\n",
              "      <td>0</td>\n",
              "      <td>29621</td>\n",
              "      <td>1</td>\n",
              "      <td>0</td>\n",
              "      <td>0</td>\n",
              "      <td>12</td>\n",
              "      <td>7</td>\n",
              "      <td>345</td>\n",
              "      <td>1</td>\n",
              "      <td>815</td>\n",
              "      <td>0</td>\n",
              "      <td>3</td>\n",
              "      <td>-999</td>\n",
              "    </tr>\n",
              "    <tr>\n",
              "      <th>18047</th>\n",
              "      <td>18047</td>\n",
              "      <td>34</td>\n",
              "      <td>0</td>\n",
              "      <td>2</td>\n",
              "      <td>1</td>\n",
              "      <td>0</td>\n",
              "      <td>94260</td>\n",
              "      <td>1</td>\n",
              "      <td>0</td>\n",
              "      <td>2</td>\n",
              "      <td>16</td>\n",
              "      <td>7</td>\n",
              "      <td>121</td>\n",
              "      <td>2</td>\n",
              "      <td>370</td>\n",
              "      <td>0</td>\n",
              "      <td>3</td>\n",
              "      <td>-999</td>\n",
              "    </tr>\n",
              "    <tr>\n",
              "      <th>18048</th>\n",
              "      <td>18048</td>\n",
              "      <td>31</td>\n",
              "      <td>9</td>\n",
              "      <td>2</td>\n",
              "      <td>1</td>\n",
              "      <td>0</td>\n",
              "      <td>65483</td>\n",
              "      <td>1</td>\n",
              "      <td>0</td>\n",
              "      <td>2</td>\n",
              "      <td>15</td>\n",
              "      <td>7</td>\n",
              "      <td>345</td>\n",
              "      <td>2</td>\n",
              "      <td>41</td>\n",
              "      <td>0</td>\n",
              "      <td>3</td>\n",
              "      <td>-999</td>\n",
              "    </tr>\n",
              "    <tr>\n",
              "      <th>18049</th>\n",
              "      <td>18049</td>\n",
              "      <td>30</td>\n",
              "      <td>5</td>\n",
              "      <td>1</td>\n",
              "      <td>0</td>\n",
              "      <td>0</td>\n",
              "      <td>6474</td>\n",
              "      <td>0</td>\n",
              "      <td>0</td>\n",
              "      <td>0</td>\n",
              "      <td>13</td>\n",
              "      <td>1</td>\n",
              "      <td>158</td>\n",
              "      <td>1</td>\n",
              "      <td>699</td>\n",
              "      <td>0</td>\n",
              "      <td>3</td>\n",
              "      <td>-999</td>\n",
              "    </tr>\n",
              "  </tbody>\n",
              "</table>\n",
              "<p>45150 rows × 18 columns</p>\n",
              "</div>"
            ],
            "text/plain": [
              "          id  age  job  marital  ...  pdays  previous  poutcome    y\n",
              "0          0   31    7        1  ...    498         0         1    0\n",
              "1          1   29    2        2  ...    702         0         3    1\n",
              "2          2   35    4        1  ...    826         0         0    0\n",
              "3          3   31    9        1  ...    120         0         0    0\n",
              "4          4   48   10        1  ...    273         0         3    0\n",
              "...      ...  ...  ...      ...  ...    ...       ...       ...  ...\n",
              "18045  18045   49    6        1  ...    417         0         0 -999\n",
              "18046  18046   34    1        1  ...    815         0         3 -999\n",
              "18047  18047   34    0        2  ...    370         0         3 -999\n",
              "18048  18048   31    9        2  ...     41         0         3 -999\n",
              "18049  18049   30    5        1  ...    699         0         3 -999\n",
              "\n",
              "[45150 rows x 18 columns]"
            ]
          },
          "metadata": {
            "tags": []
          },
          "execution_count": 171
        }
      ]
    },
    {
      "cell_type": "markdown",
      "metadata": {
        "id": "7K5oaif8S0wO",
        "colab_type": "text"
      },
      "source": [
        "## ターゲットエンコーディング"
      ]
    },
    {
      "cell_type": "code",
      "metadata": {
        "id": "2WksEM3NS5AX",
        "colab_type": "code",
        "colab": {
          "base_uri": "https://localhost:8080/",
          "height": 1000
        },
        "outputId": "9df5ba5a-1b6c-46bb-8718-827beb16dde6"
      },
      "source": [
        "for category in categorical_features:\n",
        "  target_mean = all_df[all_df['y'] != -999].groupby(category).y.mean()\n",
        "  all_df['target_'+category] = all_df[category].map(target_mean)\n",
        "  all_df[category].drop\n",
        "  print(target_mean)\n"
      ],
      "execution_count": 172,
      "outputs": [
        {
          "output_type": "stream",
          "text": [
            "job\n",
            "0     0.086602\n",
            "1     0.057915\n",
            "2     0.082251\n",
            "3     0.090186\n",
            "4     0.086607\n",
            "5     0.167331\n",
            "6     0.096303\n",
            "7     0.065965\n",
            "8     0.294618\n",
            "9     0.042930\n",
            "10    0.134591\n",
            "Name: y, dtype: float64\n",
            "marital\n",
            "0    0.064476\n",
            "1    0.062511\n",
            "2    0.120704\n",
            "Name: y, dtype: float64\n",
            "education\n",
            "0    0.065185\n",
            "1    0.064369\n",
            "2    0.104498\n",
            "3    0.151993\n",
            "Name: y, dtype: float64\n",
            "default\n",
            "0    0.077962\n",
            "1    0.000000\n",
            "Name: y, dtype: float64\n",
            "housing\n",
            "0    0.130219\n",
            "1    0.040647\n",
            "Name: y, dtype: float64\n",
            "loan\n",
            "0    0.084352\n",
            "1    0.033923\n",
            "Name: y, dtype: float64\n",
            "contact\n",
            "0    0.091346\n",
            "1    0.089674\n",
            "2    0.038546\n",
            "Name: y, dtype: float64\n",
            "month\n",
            "0     0.203491\n",
            "1     0.068323\n",
            "2     0.148661\n",
            "3     0.127424\n",
            "4     0.086786\n",
            "5     0.057032\n",
            "6     0.462617\n",
            "7     0.044160\n",
            "8     0.062852\n",
            "9     0.567010\n",
            "10    0.296296\n",
            "Name: y, dtype: float64\n",
            "poutcome\n",
            "0    0.043798\n",
            "1    0.048426\n",
            "2    0.679039\n",
            "3    0.071085\n",
            "Name: y, dtype: float64\n"
          ],
          "name": "stdout"
        }
      ]
    },
    {
      "cell_type": "markdown",
      "metadata": {
        "id": "vD_pCHwgNWGl",
        "colab_type": "text"
      },
      "source": [
        "## Count Encoding"
      ]
    },
    {
      "cell_type": "code",
      "metadata": {
        "id": "_CMkdfsyNclI",
        "colab_type": "code",
        "colab": {}
      },
      "source": [
        "# for category in categorical_features:\n",
        "#   counters = collections.Counter(all_df[category].values)\n",
        "#   all_df['count_'+category] = all_df[category].map(counters)\n",
        "#   all_df[category].drop\n",
        "\n",
        "# all_df.head()"
      ],
      "execution_count": 173,
      "outputs": []
    },
    {
      "cell_type": "markdown",
      "metadata": {
        "id": "CDyrEImC9uqJ",
        "colab_type": "text"
      },
      "source": [
        "# train, testに再度分割"
      ]
    },
    {
      "cell_type": "code",
      "metadata": {
        "id": "8DQtJZ9y92Xr",
        "colab_type": "code",
        "colab": {}
      },
      "source": [
        "train_df = all_df[all_df['y'] != -999]\n",
        "test_df = all_df[all_df['y'] == -999]\n",
        "\n",
        "y_train = train_df['y']\n",
        "X_train = train_df.drop(['y', 'id'], axis=1)\n",
        "X_test = test_df.drop(['y', 'id'], axis=1)"
      ],
      "execution_count": 174,
      "outputs": []
    },
    {
      "cell_type": "markdown",
      "metadata": {
        "id": "FD4ze-sz-fKs",
        "colab_type": "text"
      },
      "source": [
        "# trainをさらに分割"
      ]
    },
    {
      "cell_type": "code",
      "metadata": {
        "id": "luvkU4mb-kIy",
        "colab_type": "code",
        "colab": {}
      },
      "source": [
        "X_train, X_valid, y_train, y_valid = train_test_split(X_train, y_train, test_size=0.3, random_state=0, stratify=y_train)"
      ],
      "execution_count": 175,
      "outputs": []
    },
    {
      "cell_type": "markdown",
      "metadata": {
        "id": "D80aGGuW_Cye",
        "colab_type": "text"
      },
      "source": [
        "# lightbgmを使用"
      ]
    },
    {
      "cell_type": "code",
      "metadata": {
        "id": "cu2bTWSJ_Jqp",
        "colab_type": "code",
        "colab": {
          "base_uri": "https://localhost:8080/",
          "height": 153
        },
        "outputId": "2a5d04c5-ebc9-4bb5-9f94-e6daa4bc9551"
      },
      "source": [
        "lgb_train = lgb.Dataset(X_train, y_train, categorical_feature=categorical_features)\n",
        "lgb_eval = lgb.Dataset(X_valid, y_valid, reference=lgb_train, categorical_feature=categorical_features)\n",
        "\n",
        "params = {\n",
        "    'objective': 'binary'\n",
        "}\n",
        "\n",
        "model = lgb.train(\n",
        "    params, lgb_train,\n",
        "    valid_sets=[lgb_train, lgb_eval],\n",
        "    verbose_eval=10,\n",
        "    num_boost_round=1000,\n",
        "    early_stopping_rounds=10\n",
        ")\n",
        "\n"
      ],
      "execution_count": 176,
      "outputs": [
        {
          "output_type": "stream",
          "text": [
            "Training until validation scores don't improve for 10 rounds.\n",
            "[10]\ttraining's binary_logloss: 0.208383\tvalid_1's binary_logloss: 0.218796\n",
            "[20]\ttraining's binary_logloss: 0.190343\tvalid_1's binary_logloss: 0.208316\n",
            "[30]\ttraining's binary_logloss: 0.178661\tvalid_1's binary_logloss: 0.204084\n",
            "[40]\ttraining's binary_logloss: 0.169663\tvalid_1's binary_logloss: 0.202956\n",
            "[50]\ttraining's binary_logloss: 0.161684\tvalid_1's binary_logloss: 0.202438\n",
            "Early stopping, best iteration is:\n",
            "[46]\ttraining's binary_logloss: 0.164389\tvalid_1's binary_logloss: 0.202051\n"
          ],
          "name": "stdout"
        }
      ]
    },
    {
      "cell_type": "markdown",
      "metadata": {
        "id": "-sFBiJLq-r39",
        "colab_type": "text"
      },
      "source": [
        "# バリデーション"
      ]
    },
    {
      "cell_type": "code",
      "metadata": {
        "id": "HYtdKKZq-stW",
        "colab_type": "code",
        "colab": {
          "base_uri": "https://localhost:8080/",
          "height": 34
        },
        "outputId": "4320db0a-e582-448a-d7d6-153aeb0acd67"
      },
      "source": [
        "y_valid_pred = model.predict(X_valid, num_iteration=model.best_iteration)\n",
        "accuracy = accuracy_score(y_valid, y_valid_pred.round())\n",
        "accuracy"
      ],
      "execution_count": 177,
      "outputs": [
        {
          "output_type": "execute_result",
          "data": {
            "text/plain": [
              "0.9333333333333333"
            ]
          },
          "metadata": {
            "tags": []
          },
          "execution_count": 177
        }
      ]
    },
    {
      "cell_type": "markdown",
      "metadata": {
        "id": "2l3kfPrH6foE",
        "colab_type": "text"
      },
      "source": [
        "# 重要度出力"
      ]
    },
    {
      "cell_type": "code",
      "metadata": {
        "id": "QMiRgfe66ohU",
        "colab_type": "code",
        "colab": {
          "base_uri": "https://localhost:8080/",
          "height": 265
        },
        "outputId": "63622877-3ca7-40a8-eab4-230705605ab7"
      },
      "source": [
        "cols = list(X_train.columns)\n",
        "f_importance = np.array(model.feature_importance())\n",
        "df_importance = pd.DataFrame({'feature':cols, 'importance':f_importance})\n",
        "df_importance = df_importance.sort_values('importance', ascending=False)\n",
        "plt.barh(df_importance['feature'], df_importance['importance'])\n",
        "plt.show()"
      ],
      "execution_count": 178,
      "outputs": [
        {
          "output_type": "display_data",
          "data": {
            "image/png": "[encoded data removed]",
            "text/plain": [
              "<Figure size 432x288 with 1 Axes>"
            ]
          },
          "metadata": {
            "tags": [],
            "needs_background": "light"
          }
        }
      ]
    },
    {
      "cell_type": "code",
      "metadata": {
        "id": "1WdZkcTT8J19",
        "colab_type": "code",
        "colab": {
          "base_uri": "https://localhost:8080/",
          "height": 34
        },
        "outputId": "f973474a-05ef-43d9-feb0-3f2dc9dea966"
      },
      "source": [
        "y_pred = model.predict(X_test, num_iteration=model.best_iteration)\n",
        "print(y_pred)\n",
        "# 反応率を出力"
      ],
      "execution_count": 179,
      "outputs": [
        {
          "output_type": "stream",
          "text": [
            "[0.7795774  0.0641832  0.02771028 ... 0.0771145  0.00796539 0.1026451 ]\n"
          ],
          "name": "stdout"
        }
      ]
    },
    {
      "cell_type": "markdown",
      "metadata": {
        "id": "NTFH7iEpAp2A",
        "colab_type": "text"
      },
      "source": [
        "# 提出ファイル作成"
      ]
    },
    {
      "cell_type": "code",
      "metadata": {
        "id": "Dju3djfpAtEN",
        "colab_type": "code",
        "colab": {
          "base_uri": "https://localhost:8080/",
          "height": 17
        },
        "outputId": "9079fd35-ceff-457d-f693-2300a272069d"
      },
      "source": [
        "submit_df[1]=y_pred\n",
        "submit_df.to_csv('beginner-'+datetime.date.today().isoformat()+\".csv\", index=False, header=False) #headerなしで出力\n",
        "files.download('beginner-'+datetime.date.today().isoformat()+\".csv\")\n"
      ],
      "execution_count": 180,
      "outputs": [
        {
          "output_type": "display_data",
          "data": {
            "application/javascript": [
              "\n",
              "    async function download(id, filename, size) {\n",
              "      if (!google.colab.kernel.accessAllowed) {\n",
              "        return;\n",
              "      }\n",
              "      const div = document.createElement('div');\n",
              "      const label = document.createElement('label');\n",
              "      label.textContent = `Downloading \"${filename}\": `;\n",
              "      div.appendChild(label);\n",
              "      const progress = document.createElement('progress');\n",
              "      progress.max = size;\n",
              "      div.appendChild(progress);\n",
              "      document.body.appendChild(div);\n",
              "\n",
              "      const buffers = [];\n",
              "      let downloaded = 0;\n",
              "\n",
              "      const channel = await google.colab.kernel.comms.open(id);\n",
              "      // Send a message to notify the kernel that we're ready.\n",
              "      channel.send({})\n",
              "\n",
              "      for await (const message of channel.messages) {\n",
              "        // Send a message to notify the kernel that we're ready.\n",
              "        channel.send({})\n",
              "        if (message.buffers) {\n",
              "          for (const buffer of message.buffers) {\n",
              "            buffers.push(buffer);\n",
              "            downloaded += buffer.byteLength;\n",
              "            progress.value = downloaded;\n",
              "          }\n",
              "        }\n",
              "      }\n",
              "      const blob = new Blob(buffers, {type: 'application/binary'});\n",
              "      const a = document.createElement('a');\n",
              "      a.href = window.URL.createObjectURL(blob);\n",
              "      a.download = filename;\n",
              "      div.appendChild(a);\n",
              "      a.click();\n",
              "      div.remove();\n",
              "    }\n",
              "  "
            ],
            "text/plain": [
              "<IPython.core.display.Javascript object>"
            ]
          },
          "metadata": {
            "tags": []
          }
        },
        {
          "output_type": "display_data",
          "data": {
            "application/javascript": [
              "download(\"download_5c1832f3-a341-4396-82d2-d7058f6273f0\", \"beginner-2020-08-29.csv\", 464110)"
            ],
            "text/plain": [
              "<IPython.core.display.Javascript object>"
            ]
          },
          "metadata": {
            "tags": []
          }
        }
      ]
    }
  ]
}